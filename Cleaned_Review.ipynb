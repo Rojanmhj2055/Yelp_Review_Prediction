{
 "cells": [
  {
   "cell_type": "code",
   "execution_count": 2,
   "metadata": {},
   "outputs": [],
   "source": [
    "\n",
    "import numpy as np\n",
    "import pandas as pd\n"
   ]
  },
  {
   "cell_type": "code",
   "execution_count": 3,
   "metadata": {},
   "outputs": [],
   "source": [
    "# business_dataset = pd.read_json(\"./yelp_dataset/yelp_academic_dataset_business.json\")\n",
    "from numpy import datetime64\n",
    "from pandas import Int32Dtype, StringDtype\n",
    "b_pandas =[]\n",
    "not_needed=[\"review_id\",\"user_id\",\"useful\",\"funny\",\"cool\"]\n",
    "r_dtypes = {\n",
    "    \"review_id\": StringDtype,\n",
    "     \"user_id\" : StringDtype,\n",
    "     \"business_id\": StringDtype,\n",
    "     \"stars\":Int32Dtype,\n",
    "     \"date\": datetime64,\n",
    "     \"text\":StringDtype,\n",
    "     \"useful\":Int32Dtype,\n",
    "     \"funny\" :Int32Dtype,\n",
    "     \"cool\":Int32Dtype     \n",
    "}\n",
    "with open(\"./yelp_dataset/yelp_academic_dataset_review.json\",\"r\",encoding=\"utf-8\") as f:\n",
    "    reader = pd.read_json(f,orient=\"records\",lines=True,dtype=r_dtypes,chunksize=1000)\n",
    "    \n",
    "    for chunck in reader: \n",
    "        reduced_chunk = chunck.drop(columns=not_needed)\n",
    "        b_pandas.append(reduced_chunk)\n",
    "\n",
    "b_pandas = pd.concat(b_pandas,ignore_index=True)\n",
    "        \n",
    "    \n",
    "\n",
    "\n",
    "\n",
    "\n",
    "\n"
   ]
  },
  {
   "cell_type": "code",
   "execution_count": 4,
   "metadata": {},
   "outputs": [
    {
     "name": "stderr",
     "output_type": "stream",
     "text": [
      "C:\\Users\\Rojan\\AppData\\Local\\Temp\\ipykernel_113432\\3589472025.py:9: FutureWarning: Passing 'suffixes' as a <class 'NoneType'>, is not supported and may give unexpected results. Provide 'suffixes' as a tuple instead. In the future a 'TypeError' will be raised.\n",
      "  b_pandas = df.merge(b_pandas,how=\"inner\",on=\"business_id\",suffixes=None)\n"
     ]
    }
   ],
   "source": [
    "# 1. Group by businesss id to see the count of reviews for each business \n",
    "# 2. Filter them (count >=20) as per our requirement\n",
    "# 3.Inner join it with full review data so that we get full reviews \n",
    "# 4.ALL the reviews by each business and create a new dataframe, where each line\n",
    "#   is a business with all its reviews aggregated together.\n",
    "\n",
    "df = b_pandas.groupby(\"business_id\")[\"business_id\"].count().reset_index(name='counts')\n",
    "df = df[df[\"counts\"] >= 20 ]\n",
    "b_pandas = df.merge(b_pandas,how=\"inner\",on=\"business_id\",suffixes=None)\n",
    "\n",
    "df_review_agg = b_pandas.groupby(\"business_id\")[\"text\"].sum()\n",
    "df_ready = pd.DataFrame({'business_id': df_review_agg.index, 'all_reviews':\n",
    "df_review_agg.values})\n"
   ]
  },
  {
   "cell_type": "code",
   "execution_count": null,
   "metadata": {},
   "outputs": [],
   "source": [
    "df_ready.to_csv(\"./files/Cleaned_review.csv\",index=False)"
   ]
  }
 ],
 "metadata": {
  "kernelspec": {
   "display_name": "Python 3.10.5 64-bit",
   "language": "python",
   "name": "python3"
  },
  "language_info": {
   "codemirror_mode": {
    "name": "ipython",
    "version": 3
   },
   "file_extension": ".py",
   "mimetype": "text/x-python",
   "name": "python",
   "nbconvert_exporter": "python",
   "pygments_lexer": "ipython3",
   "version": "3.10.5"
  },
  "orig_nbformat": 4,
  "vscode": {
   "interpreter": {
    "hash": "34b3194b5c5d74b2e26264b6b8b35f7946303e77a7dd23c23e6e62be037c5f96"
   }
  }
 },
 "nbformat": 4,
 "nbformat_minor": 2
}
